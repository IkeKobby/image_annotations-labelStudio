{
  "cells": [
    {
      "cell_type": "code",
      "execution_count": 1,
      "metadata": {
        "colab": {
          "base_uri": "https://localhost:8080/"
        },
        "id": "UFxw2twwu7Oj",
        "outputId": "cdc91928-76d3-4f98-864e-4b7687c8b9ef"
      },
      "outputs": [
        {
          "name": "stdout",
          "output_type": "stream",
          "text": [
            "  \u001b[1;31merror\u001b[0m: \u001b[1msubprocess-exited-with-error\u001b[0m\n",
            "  \n",
            "  \u001b[31m×\u001b[0m \u001b[32mpython setup.py bdist_wheel\u001b[0m did not run successfully.\n",
            "  \u001b[31m│\u001b[0m exit code: \u001b[1;36m1\u001b[0m\n",
            "  \u001b[31m╰─>\u001b[0m \u001b[31m[20 lines of output]\u001b[0m\n",
            "  \u001b[31m   \u001b[0m running bdist_wheel\n",
            "  \u001b[31m   \u001b[0m running build\n",
            "  \u001b[31m   \u001b[0m running build_py\n",
            "  \u001b[31m   \u001b[0m creating build\n",
            "  \u001b[31m   \u001b[0m creating build/lib.macosx-11.0-arm64-cpython-310\n",
            "  \u001b[31m   \u001b[0m creating build/lib.macosx-11.0-arm64-cpython-310/pycocotools\n",
            "  \u001b[31m   \u001b[0m copying pycocotools/coco.py -> build/lib.macosx-11.0-arm64-cpython-310/pycocotools\n",
            "  \u001b[31m   \u001b[0m copying pycocotools/mask.py -> build/lib.macosx-11.0-arm64-cpython-310/pycocotools\n",
            "  \u001b[31m   \u001b[0m copying pycocotools/__init__.py -> build/lib.macosx-11.0-arm64-cpython-310/pycocotools\n",
            "  \u001b[31m   \u001b[0m copying pycocotools/cocoeval.py -> build/lib.macosx-11.0-arm64-cpython-310/pycocotools\n",
            "  \u001b[31m   \u001b[0m running build_ext\n",
            "  \u001b[31m   \u001b[0m building 'pycocotools._mask' extension\n",
            "  \u001b[31m   \u001b[0m creating build/common\n",
            "  \u001b[31m   \u001b[0m creating build/temp.macosx-11.0-arm64-cpython-310\n",
            "  \u001b[31m   \u001b[0m creating build/temp.macosx-11.0-arm64-cpython-310/pycocotools\n",
            "  \u001b[31m   \u001b[0m clang -Wno-unused-result -Wsign-compare -Wunreachable-code -DNDEBUG -fwrapv -O2 -Wall -fPIC -O2 -isystem /Users/ika/miniforge3/envs/torch/include -arch arm64 -fPIC -O2 -isystem /Users/ika/miniforge3/envs/torch/include -arch arm64 -I/Users/ika/miniforge3/envs/torch/lib/python3.10/site-packages/numpy/core/include -I../common -I/Users/ika/miniforge3/envs/torch/include/python3.10 -c ../common/maskApi.c -o build/temp.macosx-11.0-arm64-cpython-310/../common/maskApi.o -Wno-cpp -Wno-unused-function -std=c99\n",
            "  \u001b[31m   \u001b[0m clang -Wno-unused-result -Wsign-compare -Wunreachable-code -DNDEBUG -fwrapv -O2 -Wall -fPIC -O2 -isystem /Users/ika/miniforge3/envs/torch/include -arch arm64 -fPIC -O2 -isystem /Users/ika/miniforge3/envs/torch/include -arch arm64 -I/Users/ika/miniforge3/envs/torch/lib/python3.10/site-packages/numpy/core/include -I../common -I/Users/ika/miniforge3/envs/torch/include/python3.10 -c pycocotools/_mask.c -o build/temp.macosx-11.0-arm64-cpython-310/pycocotools/_mask.o -Wno-cpp -Wno-unused-function -std=c99\n",
            "  \u001b[31m   \u001b[0m clang: error: no such file or directory: 'pycocotools/_mask.c'\n",
            "  \u001b[31m   \u001b[0m clang: error: no input files\n",
            "  \u001b[31m   \u001b[0m error: command '/usr/bin/clang' failed with exit code 1\n",
            "  \u001b[31m   \u001b[0m \u001b[31m[end of output]\u001b[0m\n",
            "  \n",
            "  \u001b[1;35mnote\u001b[0m: This error originates from a subprocess, and is likely not a problem with pip.\n",
            "\u001b[31m  ERROR: Failed building wheel for pycocotools\u001b[0m\u001b[31m\n",
            "\u001b[0m\u001b[33m  DEPRECATION: pycocotools was installed using the legacy 'setup.py install' method, because a wheel could not be built for it. A possible replacement is to fix the wheel build issue reported above. Discussion can be found at https://github.com/pypa/pip/issues/8368\u001b[0m\u001b[33m\n",
            "\u001b[0mNote: you may need to restart the kernel to use updated packages.\n"
          ]
        }
      ],
      "source": [
        "%pip install -q -U 'git+https://github.com/cocodataset/cocoapi.git#subdirectory=PythonAPI'"
      ]
    },
    {
      "cell_type": "code",
      "execution_count": 1,
      "metadata": {
        "id": "9bscrJaQf0ZM"
      },
      "outputs": [],
      "source": [
        "# Libraries\n",
        "import pandas as pd\n",
        "import numpy as np\n",
        "import os\n",
        "import shutil\n",
        "\n",
        "import torch\n",
        "import json\n",
        "import cv2\n",
        "from pathlib import Path\n",
        "from torch.utils.data import DataLoader, Dataset\n",
        "from pycocotools.coco import COCO\n",
        "from PIL import Image"
      ]
    },
    {
      "cell_type": "code",
      "execution_count": 2,
      "metadata": {
        "colab": {
          "base_uri": "https://localhost:8080/"
        },
        "id": "Qdbvcf2UdGLl",
        "outputId": "5d8d1112-9a8c-4832-a7e5-ffd2125d82ad"
      },
      "outputs": [
        {
          "data": {
            "text/plain": [
              "(2089, 4)"
            ]
          },
          "execution_count": 2,
          "metadata": {},
          "output_type": "execute_result"
        }
      ],
      "source": [
        "# image_info\n",
        "img_info = pd.read_csv(\"image_data.csv\")#.drop(\"Unnamed: 0\", axis =1)\n",
        "img_info.shape"
      ]
    },
    {
      "cell_type": "code",
      "execution_count": 3,
      "metadata": {
        "colab": {
          "base_uri": "https://localhost:8080/",
          "height": 80
        },
        "id": "5A_doFRKyPoF",
        "outputId": "f47a96c8-c1ed-4cf8-bdfa-96b740261ea6"
      },
      "outputs": [
        {
          "data": {
            "text/html": [
              "<div>\n",
              "<style scoped>\n",
              "    .dataframe tbody tr th:only-of-type {\n",
              "        vertical-align: middle;\n",
              "    }\n",
              "\n",
              "    .dataframe tbody tr th {\n",
              "        vertical-align: top;\n",
              "    }\n",
              "\n",
              "    .dataframe thead th {\n",
              "        text-align: right;\n",
              "    }\n",
              "</style>\n",
              "<table border=\"1\" class=\"dataframe\">\n",
              "  <thead>\n",
              "    <tr style=\"text-align: right;\">\n",
              "      <th></th>\n",
              "      <th>id</th>\n",
              "      <th>file_name</th>\n",
              "      <th>width</th>\n",
              "      <th>height</th>\n",
              "    </tr>\n",
              "  </thead>\n",
              "  <tbody>\n",
              "    <tr>\n",
              "      <th>0</th>\n",
              "      <td>232566</td>\n",
              "      <td>000000232566.jpg</td>\n",
              "      <td>300</td>\n",
              "      <td>300</td>\n",
              "    </tr>\n",
              "  </tbody>\n",
              "</table>\n",
              "</div>"
            ],
            "text/plain": [
              "       id         file_name  width  height\n",
              "0  232566  000000232566.jpg    300     300"
            ]
          },
          "execution_count": 3,
          "metadata": {},
          "output_type": "execute_result"
        }
      ],
      "source": [
        "img_info.head(1)"
      ]
    },
    {
      "cell_type": "code",
      "execution_count": 4,
      "metadata": {
        "id": "O1D6VuVHglpj"
      },
      "outputs": [
        {
          "data": {
            "text/plain": [
              "['000000213403.png',\n",
              " '000000150596.png',\n",
              " '000000211572.png',\n",
              " '000000046486.png',\n",
              " '000000056871.png',\n",
              " '000000090942.png',\n",
              " '000000182375.png',\n",
              " '000000075931.png',\n",
              " '000000151663.png',\n",
              " '000000155363.png']"
            ]
          },
          "execution_count": 4,
          "metadata": {},
          "output_type": "execute_result"
        }
      ],
      "source": [
        "img_list = os.listdir(\"/Users/ika/Documents/baamtu_files/annotations/TrainImages/images_train\")\n",
        "img_list[:10]"
      ]
    },
    {
      "cell_type": "code",
      "execution_count": 5,
      "metadata": {
        "id": "tpNBXIQiv_w7"
      },
      "outputs": [],
      "source": [
        "img_root_path = '/Users/ika/Documents/baamtu_files/annotations/TrainImages/images_train'"
      ]
    },
    {
      "cell_type": "code",
      "execution_count": 6,
      "metadata": {
        "id": "8uDqFGzevcSt"
      },
      "outputs": [],
      "source": [
        "with open('annotation-small.json', 'r') as f:\n",
        "    annot_data = json.load(f)"
      ]
    },
    {
      "cell_type": "code",
      "execution_count": 8,
      "metadata": {
        "id": "QBDsqQEvzbLH"
      },
      "outputs": [],
      "source": [
        "# pd.DataFrame(annot_data['annotations']).shape"
      ]
    },
    {
      "cell_type": "code",
      "execution_count": 14,
      "metadata": {
        "colab": {
          "base_uri": "https://localhost:8080/"
        },
        "id": "7B-7tz6vvVfi",
        "outputId": "924a4243-d3d5-44c2-8474-b2de023852cb"
      },
      "outputs": [
        {
          "name": "stdout",
          "output_type": "stream",
          "text": [
            "loading annotations into memory...\n",
            "Done (t=0.47s)\n",
            "creating index...\n",
            "index created!\n"
          ]
        }
      ],
      "source": [
        "coco_anno = COCO('annotation-small.json')\n",
        "cat_ids = coco_anno.getCatIds()\n",
        "cats = coco_anno.loadCats(cat_ids)\n",
        "img_ids = img_info.id.to_list()"
      ]
    },
    {
      "cell_type": "code",
      "execution_count": 15,
      "metadata": {},
      "outputs": [
        {
          "data": {
            "text/plain": [
              "2089"
            ]
          },
          "execution_count": 15,
          "metadata": {},
          "output_type": "execute_result"
        }
      ],
      "source": [
        "len(img_ids)"
      ]
    },
    {
      "cell_type": "code",
      "execution_count": 17,
      "metadata": {},
      "outputs": [],
      "source": [
        "index = int( len(img_ids) * 0.80)\n",
        "train_ids = img_ids[:index]\n",
        "val_ids = img_ids[index:]"
      ]
    },
    {
      "cell_type": "code",
      "execution_count": 10,
      "metadata": {
        "id": "2Al4xwJ7uktX"
      },
      "outputs": [],
      "source": [
        "def get_mask(coco, img_id, cat_ids):\n",
        "    img_inf = coco.loadImgs(img_id)[0]\n",
        "    img_shape = (img_inf['width'], img_inf['height'], len(cat_ids))\n",
        "    ann_ids = coco_anno.getAnnIds(imgIds=img_id,\n",
        "                                  catIds=cat_ids,\n",
        "                                  iscrowd=None)\n",
        "    anns = coco.loadAnns(ann_ids)\n",
        "\n",
        "    masks = np.zeros(img_shape)\n",
        "    for idx, cat_id in enumerate(cat_ids):\n",
        "        mask = np.zeros(img_shape[:2])\n",
        "        for ann in anns:\n",
        "            if cat_id == ann['category_id']:\n",
        "                annToMask = coco_anno.annToMask(ann)\n",
        "                mask = np.maximum(mask, annToMask)\n",
        "        masks[:, :, idx] = mask\n",
        "    return masks"
      ]
    },
    {
      "cell_type": "code",
      "execution_count": 24,
      "metadata": {
        "id": "zffJQILotrhN"
      },
      "outputs": [],
      "source": [
        "class createDataset(Dataset):\n",
        "    def __init__(self, root_dir, img_ids, \n",
        "                 cat_ids, coco_api, \n",
        "                 save_image_path,\n",
        "                 save_mask_path, \n",
        "                 save = True):\n",
        "        self.root_dir = root_dir\n",
        "        self.img_ids = img_ids\n",
        "        self.cat_ids = cat_ids\n",
        "        self.coco_api = coco_api\n",
        "        self.save = save\n",
        "        self.save_image_path = save_image_path\n",
        "        self.save_mask_path = save_mask_path\n",
        "    \n",
        "    def __getitem__(self, idx):\n",
        "        img_id = self.img_ids[idx] # get image idx\n",
        "        img_inf = self.coco_api.loadImgs(img_id)[0] # load image info\n",
        "        file_name = img_inf['file_name'].split(\".\")[0] + \".png\" # get the image file name\n",
        "        file_path = f'{self.root_dir}/{file_name}'\n",
        "        img = Image.open(file_path).convert('RGB')\n",
        "        mask = get_mask(self.coco_api, img_id, self.cat_ids)\n",
        "\n",
        "        if self.save:\n",
        "          img.save(self.save_image_path + file_name)\n",
        "          cv2.imwrite(self.save_mask_path + file_name, mask)\n",
        "\n",
        "        return img, mask\n",
        "    \n",
        "    def __len__(self):\n",
        "        return len(self.img_ids)"
      ]
    },
    {
      "cell_type": "code",
      "execution_count": 27,
      "metadata": {
        "id": "xHdSpKEvC8I_"
      },
      "outputs": [],
      "source": [
        "IMAGE_ROOT = 'images_test'\n",
        "\n",
        "ds = createDataset(root_dir=IMAGE_ROOT, \n",
        "                   img_ids = val_ids, \n",
        "                   cat_ids=cat_ids, \n",
        "                   coco_api=coco_anno,\n",
        "                   save = True,\n",
        "                   save_image_path='./save/img/',\n",
        "                   save_mask_path='./save/mask/')"
      ]
    },
    {
      "cell_type": "code",
      "execution_count": 30,
      "metadata": {
        "colab": {
          "base_uri": "https://localhost:8080/",
          "height": 317
        },
        "id": "AYrtCi0SbG6E",
        "outputId": "5b98a378-abb8-4ed0-e134-d2a775e714bd"
      },
      "outputs": [
        {
          "data": {
            "text/plain": [
              "array([0., 1.])"
            ]
          },
          "execution_count": 30,
          "metadata": {},
          "output_type": "execute_result"
        }
      ],
      "source": [
        "np.unique(ds[0][1])"
      ]
    },
    {
      "cell_type": "code",
      "execution_count": 40,
      "metadata": {},
      "outputs": [
        {
          "data": {
            "text/plain": [
              "array([0, 1], dtype=uint8)"
            ]
          },
          "execution_count": 40,
          "metadata": {},
          "output_type": "execute_result"
        }
      ],
      "source": [
        "np.unique(np.array(Image.open('/Users/ika/Documents/baamtu_files/annotations/TrainImages/train_masks/000000000095.png')))"
      ]
    },
    {
      "cell_type": "code",
      "execution_count": 32,
      "metadata": {
        "colab": {
          "base_uri": "https://localhost:8080/"
        },
        "id": "f5UBu3jJFFZA",
        "outputId": "fedd7718-1764-4234-ed21-9637ec8c3479"
      },
      "outputs": [
        {
          "name": "stdout",
          "output_type": "stream",
          "text": [
            "length of train ids is 1671 and validation ids 418\n"
          ]
        }
      ],
      "source": [
        "index = int( len(img_ids) * 0.80)\n",
        "\n",
        "train_ids = img_ids[:index]\n",
        "val_ids = img_ids[index:]\n",
        "\n",
        "print(f\"length of train ids is {len(train_ids)} and validation ids {len(val_ids)}\")"
      ]
    },
    {
      "cell_type": "code",
      "execution_count": 33,
      "metadata": {
        "id": "AtRAJB35FJHO"
      },
      "outputs": [],
      "source": [
        "train_IMAGE_ROOT = 'images_train'\n",
        "\n",
        "train_ds = createDataset(root_dir=train_IMAGE_ROOT, \n",
        "                   img_ids = train_ids, \n",
        "                   cat_ids=cat_ids, \n",
        "                   coco_api=coco_anno,\n",
        "                   save = True,\n",
        "                   save_image_path='/Users/ika/Documents/baamtu_files/annotations/TrainImages/images_train/',\n",
        "                   save_mask_path='/Users/ika/Documents/baamtu_files/annotations/TrainImages/train_masks/')\n",
        "\n",
        "test_IMAGE_ROOT = 'images_test'\n",
        "val_ds = createDataset(root_dir=test_IMAGE_ROOT, \n",
        "                   img_ids = val_ids, \n",
        "                   cat_ids=cat_ids, \n",
        "                   coco_api=coco_anno,\n",
        "                   save = True,\n",
        "                   save_image_path='/Users/ika/Documents/baamtu_files/annotations/TrainImages/images_test/',\n",
        "                   save_mask_path='/Users/ika/Documents/baamtu_files/annotations/TrainImages/test_masks/')"
      ]
    },
    {
      "cell_type": "code",
      "execution_count": 34,
      "metadata": {
        "id": "4yRWK-SvFa8o"
      },
      "outputs": [],
      "source": [
        "# save images by running loop\n",
        "for image in range(len(train_ids)):\n",
        "  train_ds[image]"
      ]
    },
    {
      "cell_type": "code",
      "execution_count": 35,
      "metadata": {
        "id": "_VgD8szoFc_X"
      },
      "outputs": [],
      "source": [
        "# save images by running loop\n",
        "for image in range(len(val_ids)):\n",
        "  val_ds[image]"
      ]
    },
    {
      "cell_type": "code",
      "execution_count": 83,
      "metadata": {
        "colab": {
          "base_uri": "https://localhost:8080/"
        },
        "id": "HLDt5wFITmJ4",
        "outputId": "bf718139-7d4c-449a-f7ad-f53275372277"
      },
      "outputs": [
        {
          "name": "stdout",
          "output_type": "stream",
          "text": [
            "Number of train images: 1706 and No. Labels: 1706\n"
          ]
        }
      ],
      "source": [
        "print(f\"Number of train images: {len(os.listdir('images_train'))} and No. Labels: {len(os.listdir('train_masks'))}\")"
      ]
    },
    {
      "cell_type": "code",
      "execution_count": 77,
      "metadata": {
        "colab": {
          "base_uri": "https://localhost:8080/"
        },
        "id": "9P76h-sQVy9q",
        "outputId": "414c7a98-4e7d-4ca7-cada-3dee07cface8"
      },
      "outputs": [
        {
          "name": "stdout",
          "output_type": "stream",
          "text": [
            "Number of test images: 433 and No. Labels: 433\n"
          ]
        }
      ],
      "source": [
        "print(f\"Number of test images: {len(os.listdir('images_test'))} and No. Labels: {len(os.listdir('test_masks'))}\")"
      ]
    },
    {
      "cell_type": "code",
      "execution_count": 81,
      "metadata": {},
      "outputs": [],
      "source": [
        "TRAIN_IMAGES = os.listdir(\"images_train\")\n",
        "TRAIN_MASKS = os.listdir('train_masks')\n",
        "TEST_IMAGES = os.listdir(\"images_test\")\n",
        "TEST_LABELS = os.listdir(\"test_masks\")\n",
        "\n",
        "TRAIN_IMAGES_WITHOUT_LABELS = [img for img in TRAIN_IMAGES if img not in TRAIN_MASKS]\n",
        "TEST_IMAGES_WITHOUT_LABELS = [img for img in TEST_IMAGES if img not in TEST_LABELS]"
      ]
    },
    {
      "cell_type": "code",
      "execution_count": 45,
      "metadata": {},
      "outputs": [
        {
          "data": {
            "text/plain": [
              "(35, 15)"
            ]
          },
          "execution_count": 45,
          "metadata": {},
          "output_type": "execute_result"
        }
      ],
      "source": [
        "len(TRAIN_IMAGES_WITHOUT_LABELS), len(TEST_IMAGES_WITHOUT_LABELS)"
      ]
    },
    {
      "cell_type": "code",
      "execution_count": 85,
      "metadata": {},
      "outputs": [
        {
          "data": {
            "text/plain": [
              "array([0, 1], dtype=uint8)"
            ]
          },
          "execution_count": 85,
          "metadata": {},
          "output_type": "execute_result"
        }
      ],
      "source": [
        "np.unique(np.array(Image.open('/Users/ika/Documents/baamtu_files/annotations/TrainImages/test_masks/0e4b37eb-0064.png')))"
      ]
    },
    {
      "cell_type": "code",
      "execution_count": 69,
      "metadata": {},
      "outputs": [],
      "source": [
        "def transfer_labels(list_, src, des_path):\n",
        "    for file in list_:\n",
        "        mask = Image.open(src +  file)\n",
        "        mask = np.array(mask)/255.0\n",
        "        cv2.imwrite(des_path + file.split(\"_\")[1], mask)\n",
        "    print(f\"Successfully saved {len(list_)} labels to {des_path}\")"
      ]
    },
    {
      "cell_type": "code",
      "execution_count": 82,
      "metadata": {},
      "outputs": [
        {
          "name": "stdout",
          "output_type": "stream",
          "text": [
            "Successfully saved 35 labels to /Users/ika/Documents/baamtu_files/annotations/TrainImages/train_masks/\n"
          ]
        }
      ],
      "source": [
        "TRAIN_IMAGES_WITHOUT_LABELS = [f\"mask_{file}\" for file in TRAIN_IMAGES_WITHOUT_LABELS]\n",
        "\n",
        "transfer_labels(list_ = TRAIN_IMAGES_WITHOUT_LABELS, \n",
        "                src='/Users/ika/Documents/baamtu_files/annotations/TrainImages/labels/', \n",
        "                des_path='/Users/ika/Documents/baamtu_files/annotations/TrainImages/train_masks/')"
      ]
    },
    {
      "cell_type": "code",
      "execution_count": 71,
      "metadata": {},
      "outputs": [
        {
          "name": "stdout",
          "output_type": "stream",
          "text": [
            "Successfully saved 15 labels to /Users/ika/Documents/baamtu_files/annotations/TrainImages/test_masks/\n"
          ]
        }
      ],
      "source": [
        "TEST_IMAGES_WITHOUT_LABELS = [f\"mask_{file}\" for file in TEST_IMAGES_WITHOUT_LABELS]\n",
        "\n",
        "transfer_labels(list_ = TEST_IMAGES_WITHOUT_LABELS, \n",
        "                src='/Users/ika/Documents/baamtu_files/annotations/TrainImages/labels/', \n",
        "                des_path='/Users/ika/Documents/baamtu_files/annotations/TrainImages/test_masks/')"
      ]
    },
    {
      "cell_type": "code",
      "execution_count": null,
      "metadata": {},
      "outputs": [],
      "source": []
    },
    {
      "cell_type": "code",
      "execution_count": 98,
      "metadata": {
        "id": "yH1S42oFV8cO"
      },
      "outputs": [],
      "source": [
        "# Get local images\n",
        "\n",
        "local_images_path = os.listdir('/content/drive/MyDrive/segmentation_projects/processed/images/')\n",
        "local_labels_path = os.listdir('/content/drive/MyDrive/segmentation_projects/processed/labels/')\n",
        "\n",
        "# sample\n",
        "local_images_15 = local_images_path[35:]\n",
        "local_labels_15 = local_labels_path[35:]\n",
        "# divide between train and test\n",
        "local_images_35 = [img for img in local_images_path if img not in local_images_15]\n",
        "\n",
        "local_labels_35 = [label for label in local_labels_path if label not in local_labels_15]"
      ]
    },
    {
      "cell_type": "code",
      "execution_count": 123,
      "metadata": {
        "id": "-8MBp9uzaGnK"
      },
      "outputs": [],
      "source": [
        "TRAIN_IMAGE_DEST_DIR = os.listdir('/content/drive/MyDrive/mixed_dataset/images_train/')\n",
        "TRAIN_MASK_DES_DIR = os.listdir('/content/drive/MyDrive/mixed_dataset/annotation_train/')\n",
        "\n",
        "VAL_IMAGE_DEST_DIR = os.listdir('/content/drive/MyDrive/mixed_dataset/images_test/')\n",
        "VAL_MASK_DES_DIR = os.listdir('/content/drive/MyDrive/mixed_dataset/annotation_test/')"
      ]
    },
    {
      "cell_type": "code",
      "execution_count": 118,
      "metadata": {
        "id": "s200k-RoYeX4"
      },
      "outputs": [],
      "source": [
        "def move_file(allfiles, source, destination, type = None):\n",
        "  if type == 'labels':\n",
        "    for file in allfiles:\n",
        "      shutil.move(source + file, destination + file.split('_')[1])\n",
        "  else:\n",
        "    for file in allfiles:\n",
        "      shutil.move(source + file, destination + file)"
      ]
    },
    {
      "cell_type": "code",
      "execution_count": 120,
      "metadata": {
        "id": "wJA0g0Q_b6d6"
      },
      "outputs": [],
      "source": [
        "move_file(allfiles=local_images_35, \n",
        "          source= '/content/drive/MyDrive/segmentation_projects/processed/images/', \n",
        "          destination='/content/drive/MyDrive/mixed_dataset/images_train/', \n",
        "          type = None)"
      ]
    },
    {
      "cell_type": "code",
      "execution_count": 121,
      "metadata": {
        "id": "uY7vI0XycOTY"
      },
      "outputs": [],
      "source": [
        "move_file(allfiles=local_images_15, \n",
        "          source= '/content/drive/MyDrive/segmentation_projects/processed/images/', \n",
        "          destination='/content/drive/MyDrive/mixed_dataset/images_test/', \n",
        "          type = None)"
      ]
    },
    {
      "cell_type": "code",
      "execution_count": 149,
      "metadata": {
        "colab": {
          "base_uri": "https://localhost:8080/"
        },
        "id": "sO5PRmzbg7gB",
        "outputId": "343f181c-063f-430d-ae96-d607602a40ec"
      },
      "outputs": [
        {
          "name": "stdout",
          "output_type": "stream",
          "text": [
            "Train images: 1706\n",
            "Train labels 1706\n",
            "Val images: 433\n",
            "Val labels 434\n"
          ]
        }
      ],
      "source": [
        "print(f\"Train images: {len(TRAIN_IMAGE_DEST_DIR)}\")\n",
        "print(f\"Train labels {len(TRAIN_MASK_DES_DIR)}\")\n",
        "print(f\"Val images: {len(VAL_IMAGE_DEST_DIR)}\")\n",
        "print(f\"Val labels {len(VAL_MASK_DES_DIR)}\")"
      ]
    },
    {
      "cell_type": "code",
      "execution_count": 150,
      "metadata": {
        "colab": {
          "base_uri": "https://localhost:8080/"
        },
        "id": "2dcEtb_7haWz",
        "outputId": "0368290b-b17a-4830-bd4e-c9ea9f7ec5b1"
      },
      "outputs": [
        {
          "data": {
            "text/plain": [
              "['30d54083-28.png',\n",
              " 'a23f6076-20.png',\n",
              " '67568ce1-03.png',\n",
              " 'b013a1f5-10.png',\n",
              " '9afa81d4-25.png',\n",
              " '.ipynb_checkpoints',\n",
              " '7a7a899b-08.png',\n",
              " 'c48c0ac3-31.png',\n",
              " '64015c9d-17.png',\n",
              " '3a93a9ec-29.png',\n",
              " 'f51bda75-15.png',\n",
              " 'c4100fb7-05.png',\n",
              " 'f870e4be-19.png']"
            ]
          },
          "execution_count": 150,
          "metadata": {},
          "output_type": "execute_result"
        }
      ],
      "source": [
        "wrongMask = [image for image in VAL_MASK_DES_DIR if image not in VAL_IMAGE_DEST_DIR]\n",
        "wrongMask"
      ]
    },
    {
      "cell_type": "code",
      "execution_count": 148,
      "metadata": {
        "colab": {
          "base_uri": "https://localhost:8080/"
        },
        "id": "8buYadI6iWLt",
        "outputId": "b2463602-0b48-49b5-9ae9-146eb32223de"
      },
      "outputs": [
        {
          "data": {
            "text/plain": [
              "['30d54083-28.png',\n",
              " 'a23f6076-20.png',\n",
              " '67568ce1-03.png',\n",
              " 'b013a1f5-10.png',\n",
              " '9afa81d4-25.png',\n",
              " '7a7a899b-08.png',\n",
              " 'c48c0ac3-31.png',\n",
              " '64015c9d-17.png',\n",
              " '3a93a9ec-29.png',\n",
              " 'f51bda75-15.png',\n",
              " 'c4100fb7-05.png',\n",
              " 'f870e4be-19.png']"
            ]
          },
          "execution_count": 148,
          "metadata": {},
          "output_type": "execute_result"
        }
      ],
      "source": [
        "fixTestSrc = [img for img in wrongMask if img in TRAIN_IMAGE_DEST_DIR] \n",
        "# from '/content/drive/MyDrive/mixed_dataset/images_train/' to\n",
        "#, ---> '/content/drive/MyDrive/mixed_dataset/images_test/'\n",
        "fixTestSrc"
      ]
    },
    {
      "cell_type": "code",
      "execution_count": 140,
      "metadata": {
        "id": "HlQojmB9q9lq"
      },
      "outputs": [],
      "source": [
        "# remove\n",
        "move_file(allfiles=fixTestSrc, \n",
        "          source= '/content/drive/MyDrive/mixed_dataset/images_train/', \n",
        "          destination='/content/drive/MyDrive/mixed_dataset/images_test/', \n",
        "          type = None)"
      ]
    },
    {
      "cell_type": "code",
      "execution_count": 141,
      "metadata": {
        "colab": {
          "base_uri": "https://localhost:8080/"
        },
        "id": "Bx7c53g_lidk",
        "outputId": "bfb08d15-7bef-4f2a-9d63-9117fc1eafd4"
      },
      "outputs": [
        {
          "data": {
            "text/plain": [
              "['9ad9d934-0071.png',\n",
              " '49463a0e-0061.png',\n",
              " 'b65475d9-0083.png',\n",
              " '58ef6cb0-0081.png',\n",
              " '97626ff6-0080.png',\n",
              " 'c559b166-0067.png',\n",
              " '42dec8b6-0073.png',\n",
              " '0f9961ff-0070.png',\n",
              " '790f5283-0074.png',\n",
              " '3eb40526-0063.png',\n",
              " 'ea0dc5ba-0060.png',\n",
              " '46c3f17b-0065.png']"
            ]
          },
          "execution_count": 141,
          "metadata": {},
          "output_type": "execute_result"
        }
      ],
      "source": [
        "wrongImg = [image for image in TRAIN_MASK_DES_DIR if image not in TRAIN_IMAGE_DEST_DIR]\n",
        "wrongImg"
      ]
    },
    {
      "cell_type": "code",
      "execution_count": 143,
      "metadata": {
        "colab": {
          "base_uri": "https://localhost:8080/"
        },
        "id": "IcyyV3Usm3Gj",
        "outputId": "ee933812-7c3c-464f-ac4d-b4beb3d4f923"
      },
      "outputs": [
        {
          "data": {
            "text/plain": [
              "['9ad9d934-0071.png',\n",
              " '49463a0e-0061.png',\n",
              " 'b65475d9-0083.png',\n",
              " '58ef6cb0-0081.png',\n",
              " '97626ff6-0080.png',\n",
              " 'c559b166-0067.png',\n",
              " '42dec8b6-0073.png',\n",
              " '0f9961ff-0070.png',\n",
              " '790f5283-0074.png',\n",
              " '3eb40526-0063.png',\n",
              " 'ea0dc5ba-0060.png',\n",
              " '46c3f17b-0065.png']"
            ]
          },
          "execution_count": 143,
          "metadata": {},
          "output_type": "execute_result"
        }
      ],
      "source": [
        "fixTrainSrc = [img for img in wrongImg if img in VAL_IMAGE_DEST_DIR] \n",
        "# from '/content/drive/MyDrive/mixed_dataset/images_test/'\n",
        "#----> '/content/drive/MyDrive/mixed_dataset/images_train/'\n",
        "fixTrainSrc"
      ]
    },
    {
      "cell_type": "code",
      "execution_count": 144,
      "metadata": {
        "id": "cddWLo6GqZmP"
      },
      "outputs": [],
      "source": [
        "# remove\n",
        "move_file(allfiles=fixTrainSrc, \n",
        "          source= '/content/drive/MyDrive/mixed_dataset/images_test/', \n",
        "          destination= '/content/drive/MyDrive/mixed_dataset/images_train/', \n",
        "          type = None)"
      ]
    },
    {
      "cell_type": "code",
      "execution_count": 10,
      "metadata": {
        "id": "d6ZscqjpsjXZ"
      },
      "outputs": [],
      "source": [
        "# fix size\n",
        "\n",
        "def reset_size(msks, des):\n",
        "  for mask in msks:\n",
        "    msk = Image.open(des + mask)\n",
        "    cv2.imwrite(des + mask, np.array(msk)/255.0)"
      ]
    },
    {
      "cell_type": "code",
      "execution_count": 9,
      "metadata": {
        "colab": {
          "base_uri": "https://localhost:8080/"
        },
        "id": "SVabObpoM41M",
        "outputId": "753afe91-d064-40a7-d051-1f7aff836423"
      },
      "outputs": [
        {
          "name": "stdout",
          "output_type": "stream",
          "text": [
            "1706\n",
            "433\n"
          ]
        }
      ],
      "source": [
        "train_masks = os.listdir('/content/drive/MyDrive/mixed_dataset/annotation_train/')\n",
        "test_masks = os.listdir('/content/drive/MyDrive/mixed_dataset/annotation_test/')\n",
        "test_masks = [i for i in test_masks if i.endswith(\".png\")]\n",
        "print(len(train_masks))\n",
        "print(len(test_masks))\n",
        "\n",
        "train_masks_dir = '/content/drive/MyDrive/mixed_dataset/annotation_train/'\n",
        "test_masks_dir = '/content/drive/MyDrive/mixed_dataset/annotation_test/'"
      ]
    },
    {
      "cell_type": "code",
      "execution_count": 22,
      "metadata": {
        "id": "pYCPvKkgNbP3"
      },
      "outputs": [],
      "source": [
        "reset_size(msks=train_masks, \n",
        "           des=train_masks_dir)"
      ]
    },
    {
      "cell_type": "code",
      "execution_count": 23,
      "metadata": {
        "id": "R5WSTXKEOSpX"
      },
      "outputs": [],
      "source": [
        "reset_size(msks=test_masks, \n",
        "           des=test_masks_dir)"
      ]
    },
    {
      "cell_type": "code",
      "execution_count": 35,
      "metadata": {
        "colab": {
          "base_uri": "https://localhost:8080/"
        },
        "id": "bJyip_p-P53y",
        "outputId": "4c3bf52b-b02d-440a-9540-6424099eb4ce"
      },
      "outputs": [
        {
          "data": {
            "text/plain": [
              "['000000279400.png',\n",
              " '000000243493.png',\n",
              " '000000006777.png',\n",
              " '000000089498.png',\n",
              " '000000239767.png']"
            ]
          },
          "execution_count": 35,
          "metadata": {},
          "output_type": "execute_result"
        }
      ],
      "source": [
        "train_masks[:5]"
      ]
    },
    {
      "cell_type": "code",
      "execution_count": 36,
      "metadata": {
        "colab": {
          "base_uri": "https://localhost:8080/",
          "height": 317
        },
        "id": "Ld_XJW0eReUy",
        "outputId": "5c2f051f-7ba8-4bd4-d5ee-0bad4afa819c"
      },
      "outputs": [
        {
          "data": {
            "image/png": "[encoded data removed]",
            "text/plain": [
              "<PIL.PngImagePlugin.PngImageFile image mode=L size=300x300 at 0x7FC2D021FCD0>"
            ]
          },
          "execution_count": 36,
          "metadata": {},
          "output_type": "execute_result"
        }
      ],
      "source": [
        "img = Image.open(train_masks_dir + '000000006777.png')\n",
        "img"
      ]
    },
    {
      "cell_type": "code",
      "execution_count": 37,
      "metadata": {
        "colab": {
          "base_uri": "https://localhost:8080/"
        },
        "id": "LPEJVc5uXTGF",
        "outputId": "38afb412-17b0-41c7-ccc9-6bc4e8f0aeeb"
      },
      "outputs": [
        {
          "data": {
            "text/plain": [
              "array([0], dtype=uint8)"
            ]
          },
          "execution_count": 37,
          "metadata": {},
          "output_type": "execute_result"
        }
      ],
      "source": [
        "np.unique(np.array(img))"
      ]
    },
    {
      "cell_type": "code",
      "execution_count": 30,
      "metadata": {
        "colab": {
          "base_uri": "https://localhost:8080/"
        },
        "id": "S-ljuXywXWLM",
        "outputId": "f32218a6-9535-4db6-e5e8-3efad5043125"
      },
      "outputs": [
        {
          "data": {
            "text/plain": [
              "(300, 300)"
            ]
          },
          "execution_count": 30,
          "metadata": {},
          "output_type": "execute_result"
        }
      ],
      "source": [
        "np.array(img).shape"
      ]
    },
    {
      "cell_type": "code",
      "execution_count": 31,
      "metadata": {
        "colab": {
          "base_uri": "https://localhost:8080/",
          "height": 377
        },
        "id": "62Q5XnOjXt_L",
        "outputId": "ca498724-5121-4ac0-c66a-aa5a41dc66af"
      },
      "outputs": [
        {
          "data": {
            "image/png": "[encoded data removed]",
            "text/plain": [
              "<PIL.PngImagePlugin.PngImageFile image mode=L size=480x360 at 0x7FC2D02CE490>"
            ]
          },
          "execution_count": 31,
          "metadata": {},
          "output_type": "execute_result"
        }
      ],
      "source": [
        "t = Image.open('/content/drive/MyDrive/dataset1.zip (Unzipped Files)/dataset1/annotations_prepped_train/0001TP_006690.png')\n",
        "t"
      ]
    },
    {
      "cell_type": "code",
      "execution_count": 34,
      "metadata": {
        "colab": {
          "base_uri": "https://localhost:8080/"
        },
        "id": "fto56KAGYOzf",
        "outputId": "9dc213e4-3f38-4dd1-a6c4-4e1413ca2e45"
      },
      "outputs": [
        {
          "data": {
            "text/plain": [
              "array([ 0,  1,  2,  3,  4,  5,  6,  8,  9, 11], dtype=uint8)"
            ]
          },
          "execution_count": 34,
          "metadata": {},
          "output_type": "execute_result"
        }
      ],
      "source": [
        "np.unique(np.array(t))"
      ]
    },
    {
      "cell_type": "code",
      "execution_count": null,
      "metadata": {
        "id": "Mt0YhF2MYR30"
      },
      "outputs": [],
      "source": []
    }
  ],
  "metadata": {
    "colab": {
      "collapsed_sections": [],
      "name": "merging-local-open-source-data.ipynb",
      "provenance": []
    },
    "kernelspec": {
      "display_name": "Python 3",
      "name": "python3"
    },
    "language_info": {
      "codemirror_mode": {
        "name": "ipython",
        "version": 3
      },
      "file_extension": ".py",
      "mimetype": "text/x-python",
      "name": "python",
      "nbconvert_exporter": "python",
      "pygments_lexer": "ipython3",
      "version": "3.10.4"
    }
  },
  "nbformat": 4,
  "nbformat_minor": 0
}
